{
 "cells": [
  {
   "cell_type": "code",
   "execution_count": 1,
   "id": "cheap-ideal",
   "metadata": {},
   "outputs": [],
   "source": [
    "from utils import initialize_spark, load_df\n",
    "from pyspark.sql import functions as F \n",
    "from pyspark.sql import Window "
   ]
  },
  {
   "cell_type": "code",
   "execution_count": 2,
   "id": "comparable-yield",
   "metadata": {
    "scrolled": false
   },
   "outputs": [],
   "source": [
    "fmat = 'csv'\n",
    "weather_data = f'data/2019/*.gz'\n",
    "station_list = f'data/stationlist.csv'\n",
    "country_list = f'data/countrylist.csv'"
   ]
  },
  {
   "cell_type": "code",
   "execution_count": 3,
   "id": "composite-exercise",
   "metadata": {},
   "outputs": [],
   "source": [
    "spark = initialize_spark()\n",
    "spark.conf.set(\"spark.sql.repl.eagerEval.enabled\", True)"
   ]
  },
  {
   "cell_type": "markdown",
   "id": "funny-tender",
   "metadata": {},
   "source": [
    "### Load the global weather data into your big data technology of choice"
   ]
  },
  {
   "cell_type": "code",
   "execution_count": 4,
   "id": "leading-interim",
   "metadata": {},
   "outputs": [
    {
     "name": "stdout",
     "output_type": "stream",
     "text": [
      "Total Records = 4158416\n"
     ]
    },
    {
     "data": {
      "text/html": [
       "<table border='1'>\n",
       "<tr><th>STN---</th><th>WBAN</th><th>YEARMODA</th><th>TEMP</th><th>DEWP</th><th>SLP</th><th>STP</th><th>VISIB</th><th>WDSP</th><th>MXSPD</th><th>GUST</th><th>MAX</th><th>MIN</th><th>PRCP</th><th>SNDP</th><th>FRSHTT</th></tr>\n",
       "<tr><td>010260</td><td>99999</td><td>20190101</td><td>26.1</td><td>21.2</td><td>1001.9</td><td>987.5</td><td>20.6</td><td>9.0</td><td>15.9</td><td>29.7</td><td>29.8</td><td>21.7*</td><td>0.02G</td><td>18.5</td><td>001000</td></tr>\n",
       "<tr><td>010260</td><td>99999</td><td>20190102</td><td>24.9</td><td>22.1</td><td>1020.1</td><td>1005.5</td><td>5.4</td><td>5.6</td><td>13.6</td><td>22.1</td><td>27.1*</td><td>20.7</td><td>0.48G</td><td>22.8</td><td>001000</td></tr>\n",
       "<tr><td>010260</td><td>99999</td><td>20190103</td><td>31.7</td><td>29.1</td><td>1008.9</td><td>994.7</td><td>13.6</td><td>11.6</td><td>21.4</td><td>49.5</td><td>37.4*</td><td>26.8*</td><td>0.25G</td><td>999.9</td><td>011000</td></tr>\n",
       "<tr><td>010260</td><td>99999</td><td>20190104</td><td>32.9</td><td>30.3</td><td>1011.4</td><td>997.1</td><td>15.8</td><td>4.9</td><td>7.8</td><td>10.9</td><td>36.1</td><td>31.8</td><td>0.52G</td><td>999.9</td><td>001000</td></tr>\n",
       "<tr><td>010260</td><td>99999</td><td>20190105</td><td>35.5</td><td>33.0</td><td>1015.7</td><td>1001.4</td><td>12.0</td><td>10.4</td><td>13.6</td><td>21.0</td><td>38.5*</td><td>32.7</td><td>0.02G</td><td>23.6</td><td>010000</td></tr>\n",
       "<tr><td>010260</td><td>99999</td><td>20190106</td><td>38.5</td><td>34.1</td><td>1008.2</td><td>994.2</td><td>12.8</td><td>10.0</td><td>17.5</td><td>28.9</td><td>41.4</td><td>33.8*</td><td>0.12G</td><td>23.2</td><td>010000</td></tr>\n",
       "<tr><td>010260</td><td>99999</td><td>20190107</td><td>32.1</td><td>29.8</td><td>996.8</td><td>982.7</td><td>6.9</td><td>11.3</td><td>15.5</td><td>28.6</td><td>35.1*</td><td>30.4</td><td>0.00G</td><td>999.9</td><td>001000</td></tr>\n",
       "<tr><td>010260</td><td>99999</td><td>20190108</td><td>31.6</td><td>28.0</td><td>997.4</td><td>983.3</td><td>22.9</td><td>5.9</td><td>11.7</td><td>19.0</td><td>34.3</td><td>28.0*</td><td>0.53G</td><td>0.4</td><td>011000</td></tr>\n",
       "<tr><td>010260</td><td>99999</td><td>20190109</td><td>29.9</td><td>27.7</td><td>1011.6</td><td>997.3</td><td>29.8</td><td>7.6</td><td>15.2</td><td>26.6</td><td>32.4</td><td>26.1</td><td>0.20G</td><td>23.6</td><td>001000</td></tr>\n",
       "<tr><td>010260</td><td>99999</td><td>20190110</td><td>33.1</td><td>30.6</td><td>979.1</td><td>965.3</td><td>5.3</td><td>17.8</td><td>24.9</td><td>41.8</td><td>41.4</td><td>28.8*</td><td>0.00G</td><td>999.9</td><td>011000</td></tr>\n",
       "<tr><td>010260</td><td>99999</td><td>20190111</td><td>31.2</td><td>29.0</td><td>975.0</td><td>961.1</td><td>5.6</td><td>11.6</td><td>17.5</td><td>38.9</td><td>33.3*</td><td>27.9*</td><td>0.83G</td><td>0.4</td><td>011100</td></tr>\n",
       "<tr><td>010260</td><td>99999</td><td>20190112</td><td>28.3</td><td>26.1</td><td>988.2</td><td>974.1</td><td>8.2</td><td>8.1</td><td>13.6</td><td>38.5</td><td>30.7*</td><td>25.7*</td><td>0.00G</td><td>999.9</td><td>001000</td></tr>\n",
       "<tr><td>010260</td><td>99999</td><td>20190113</td><td>22.7</td><td>20.9</td><td>977.1</td><td>963.0</td><td>26.6</td><td>4.1</td><td>7.8</td><td>15.2</td><td>27.7</td><td>18.0*</td><td>0.51G</td><td>0.4</td><td>001000</td></tr>\n",
       "<tr><td>010260</td><td>99999</td><td>20190114</td><td>20.0</td><td>18.3</td><td>984.3</td><td>970.0</td><td>43.1</td><td>3.6</td><td>9.7</td><td>10.7</td><td>23.4*</td><td>15.4</td><td>0.05G</td><td>38.6</td><td>000000</td></tr>\n",
       "<tr><td>010260</td><td>99999</td><td>20190115</td><td>25.9</td><td>23.2</td><td>991.3</td><td>977.1</td><td>16.0</td><td>7.4</td><td>13.8</td><td>20.8</td><td>27.3</td><td>19.2</td><td>0.07G</td><td>999.9</td><td>001000</td></tr>\n",
       "<tr><td>010260</td><td>99999</td><td>20190116</td><td>24.8</td><td>21.8</td><td>992.5</td><td>978.2</td><td>33.4</td><td>2.7</td><td>5.8</td><td>999.9</td><td>26.1</td><td>23.5</td><td>0.06G</td><td>35.4</td><td>001000</td></tr>\n",
       "<tr><td>010260</td><td>99999</td><td>20190117</td><td>21.4</td><td>19.0</td><td>989.8</td><td>975.5</td><td>10.4</td><td>6.1</td><td>8.9</td><td>13.4</td><td>24.4*</td><td>19.4*</td><td>0.04G</td><td>35.0</td><td>001000</td></tr>\n",
       "<tr><td>010260</td><td>99999</td><td>20190118</td><td>21.0</td><td>19.1</td><td>994.4</td><td>980.0</td><td>13.8</td><td>5.6</td><td>7.8</td><td>12.8</td><td>22.3</td><td>19.2</td><td>0.11G</td><td>35.0</td><td>001000</td></tr>\n",
       "<tr><td>010260</td><td>99999</td><td>20190119</td><td>20.2</td><td>18.5</td><td>1000.8</td><td>986.3</td><td>33.9</td><td>3.4</td><td>7.8</td><td>10.3</td><td>22.1*</td><td>17.6*</td><td>0.09G</td><td>35.8</td><td>001000</td></tr>\n",
       "<tr><td>010260</td><td>99999</td><td>20190120</td><td>21.7</td><td>18.5</td><td>1009.0</td><td>994.4</td><td>32.1</td><td>9.5</td><td>14.6</td><td>20.4</td><td>23.5*</td><td>18.7</td><td>0.11G</td><td>999.9</td><td>001000</td></tr>\n",
       "</table>\n",
       "only showing top 20 rows\n"
      ],
      "text/plain": [
       "+------+-----+--------+----+----+------+------+-----+----+-----+-----+-----+-----+-----+-----+------+\n",
       "|STN---| WBAN|YEARMODA|TEMP|DEWP|   SLP|   STP|VISIB|WDSP|MXSPD| GUST|  MAX|  MIN| PRCP| SNDP|FRSHTT|\n",
       "+------+-----+--------+----+----+------+------+-----+----+-----+-----+-----+-----+-----+-----+------+\n",
       "|010260|99999|20190101|26.1|21.2|1001.9| 987.5| 20.6| 9.0| 15.9| 29.7| 29.8|21.7*|0.02G| 18.5|001000|\n",
       "|010260|99999|20190102|24.9|22.1|1020.1|1005.5|  5.4| 5.6| 13.6| 22.1|27.1*| 20.7|0.48G| 22.8|001000|\n",
       "|010260|99999|20190103|31.7|29.1|1008.9| 994.7| 13.6|11.6| 21.4| 49.5|37.4*|26.8*|0.25G|999.9|011000|\n",
       "|010260|99999|20190104|32.9|30.3|1011.4| 997.1| 15.8| 4.9|  7.8| 10.9| 36.1| 31.8|0.52G|999.9|001000|\n",
       "|010260|99999|20190105|35.5|33.0|1015.7|1001.4| 12.0|10.4| 13.6| 21.0|38.5*| 32.7|0.02G| 23.6|010000|\n",
       "|010260|99999|20190106|38.5|34.1|1008.2| 994.2| 12.8|10.0| 17.5| 28.9| 41.4|33.8*|0.12G| 23.2|010000|\n",
       "|010260|99999|20190107|32.1|29.8| 996.8| 982.7|  6.9|11.3| 15.5| 28.6|35.1*| 30.4|0.00G|999.9|001000|\n",
       "|010260|99999|20190108|31.6|28.0| 997.4| 983.3| 22.9| 5.9| 11.7| 19.0| 34.3|28.0*|0.53G|  0.4|011000|\n",
       "|010260|99999|20190109|29.9|27.7|1011.6| 997.3| 29.8| 7.6| 15.2| 26.6| 32.4| 26.1|0.20G| 23.6|001000|\n",
       "|010260|99999|20190110|33.1|30.6| 979.1| 965.3|  5.3|17.8| 24.9| 41.8| 41.4|28.8*|0.00G|999.9|011000|\n",
       "|010260|99999|20190111|31.2|29.0| 975.0| 961.1|  5.6|11.6| 17.5| 38.9|33.3*|27.9*|0.83G|  0.4|011100|\n",
       "|010260|99999|20190112|28.3|26.1| 988.2| 974.1|  8.2| 8.1| 13.6| 38.5|30.7*|25.7*|0.00G|999.9|001000|\n",
       "|010260|99999|20190113|22.7|20.9| 977.1| 963.0| 26.6| 4.1|  7.8| 15.2| 27.7|18.0*|0.51G|  0.4|001000|\n",
       "|010260|99999|20190114|20.0|18.3| 984.3| 970.0| 43.1| 3.6|  9.7| 10.7|23.4*| 15.4|0.05G| 38.6|000000|\n",
       "|010260|99999|20190115|25.9|23.2| 991.3| 977.1| 16.0| 7.4| 13.8| 20.8| 27.3| 19.2|0.07G|999.9|001000|\n",
       "|010260|99999|20190116|24.8|21.8| 992.5| 978.2| 33.4| 2.7|  5.8|999.9| 26.1| 23.5|0.06G| 35.4|001000|\n",
       "|010260|99999|20190117|21.4|19.0| 989.8| 975.5| 10.4| 6.1|  8.9| 13.4|24.4*|19.4*|0.04G| 35.0|001000|\n",
       "|010260|99999|20190118|21.0|19.1| 994.4| 980.0| 13.8| 5.6|  7.8| 12.8| 22.3| 19.2|0.11G| 35.0|001000|\n",
       "|010260|99999|20190119|20.2|18.5|1000.8| 986.3| 33.9| 3.4|  7.8| 10.3|22.1*|17.6*|0.09G| 35.8|001000|\n",
       "|010260|99999|20190120|21.7|18.5|1009.0| 994.4| 32.1| 9.5| 14.6| 20.4|23.5*| 18.7|0.11G|999.9|001000|\n",
       "+------+-----+--------+----+----+------+------+-----+----+-----+-----+-----+-----+-----+-----+------+\n",
       "only showing top 20 rows"
      ]
     },
     "execution_count": 4,
     "metadata": {},
     "output_type": "execute_result"
    }
   ],
   "source": [
    "dataDF = load_df(spark, weather_data, fmat=fmat)\n",
    "dataDF"
   ]
  },
  {
   "cell_type": "markdown",
   "id": "welcome-phoenix",
   "metadata": {},
   "source": [
    "### Join the global weather data with the full country names by station number"
   ]
  },
  {
   "cell_type": "code",
   "execution_count": 5,
   "id": "lonely-biodiversity",
   "metadata": {},
   "outputs": [
    {
     "name": "stdout",
     "output_type": "stream",
     "text": [
      "Total Records = 25306\n",
      "Total Records = 288\n"
     ]
    },
    {
     "data": {
      "text/html": [
       "<table border='1'>\n",
       "<tr><th>COUNTRY_ABBR</th><th>STN_NO</th><th>COUNTRY_FULL</th></tr>\n",
       "<tr><td>NO</td><td>012240</td><td>NORWAY</td></tr>\n",
       "<tr><td>SW</td><td>020690</td><td>SWEDEN</td></tr>\n",
       "<tr><td>SW</td><td>020870</td><td>SWEDEN</td></tr>\n",
       "<tr><td>SW</td><td>021190</td><td>SWEDEN</td></tr>\n",
       "<tr><td>UK</td><td>032690</td><td>UNITED KINGDOM</td></tr>\n",
       "<tr><td>UK</td><td>033450</td><td>UNITED KINGDOM</td></tr>\n",
       "<tr><td>UK</td><td>039290</td><td>UNITED KINGDOM</td></tr>\n",
       "<tr><td>EI</td><td>039790</td><td>IRELAND</td></tr>\n",
       "<tr><td>IC</td><td>040480</td><td>ICELAND</td></tr>\n",
       "<tr><td>IC</td><td>041300</td><td>ICELAND</td></tr>\n",
       "<tr><td>FO</td><td>060100</td><td>FAROE ISLANDS</td></tr>\n",
       "<tr><td>DA</td><td>061443</td><td>DENMARK</td></tr>\n",
       "<tr><td>NL</td><td>063401</td><td>NETHERLANDS</td></tr>\n",
       "<tr><td>FR</td><td>071910</td><td>FRANCE</td></tr>\n",
       "<tr><td>GM</td><td>092640</td><td>GERMANY</td></tr>\n",
       "<tr><td>PL</td><td>123766</td><td>POLAND</td></tr>\n",
       "<tr><td>PL</td><td>125990</td><td>POLAND</td></tr>\n",
       "<tr><td>HU</td><td>129700</td><td>HUNGARY</td></tr>\n",
       "<tr><td>HR</td><td>132240</td><td>CROATIA</td></tr>\n",
       "<tr><td>BU</td><td>156500</td><td>BULGARIA</td></tr>\n",
       "</table>\n",
       "only showing top 20 rows\n"
      ],
      "text/plain": [
       "+------------+------+--------------+\n",
       "|COUNTRY_ABBR|STN_NO|  COUNTRY_FULL|\n",
       "+------------+------+--------------+\n",
       "|          NO|012240|        NORWAY|\n",
       "|          SW|020690|        SWEDEN|\n",
       "|          SW|020870|        SWEDEN|\n",
       "|          SW|021190|        SWEDEN|\n",
       "|          UK|032690|UNITED KINGDOM|\n",
       "|          UK|033450|UNITED KINGDOM|\n",
       "|          UK|039290|UNITED KINGDOM|\n",
       "|          EI|039790|       IRELAND|\n",
       "|          IC|040480|       ICELAND|\n",
       "|          IC|041300|       ICELAND|\n",
       "|          FO|060100| FAROE ISLANDS|\n",
       "|          DA|061443|       DENMARK|\n",
       "|          NL|063401|   NETHERLANDS|\n",
       "|          FR|071910|        FRANCE|\n",
       "|          GM|092640|       GERMANY|\n",
       "|          PL|123766|        POLAND|\n",
       "|          PL|125990|        POLAND|\n",
       "|          HU|129700|       HUNGARY|\n",
       "|          HR|132240|       CROATIA|\n",
       "|          BU|156500|      BULGARIA|\n",
       "+------------+------+--------------+\n",
       "only showing top 20 rows"
      ]
     },
     "execution_count": 5,
     "metadata": {},
     "output_type": "execute_result"
    }
   ],
   "source": [
    "stationDF = load_df(spark, station_list, fmat=fmat)\n",
    "countryDF = load_df(spark, country_list, fmat=fmat)\n",
    "countryMappingDF = stationDF.join(countryDF, on=['COUNTRY_ABBR'], how='inner')\n",
    "countryMappingDF"
   ]
  },
  {
   "cell_type": "markdown",
   "id": "vulnerable-writing",
   "metadata": {},
   "source": [
    " ### Join the global weather data with the full country names by station number"
   ]
  },
  {
   "cell_type": "code",
   "execution_count": 6,
   "id": "pediatric-cosmetic",
   "metadata": {},
   "outputs": [
    {
     "data": {
      "text/html": [
       "<table border='1'>\n",
       "<tr><th>STN_NO</th><th>COUNTRY_ABBR</th><th>COUNTRY_FULL</th><th>WBAN</th><th>YEARMODA</th><th>TEMP</th><th>DEWP</th><th>SLP</th><th>STP</th><th>VISIB</th><th>WDSP</th><th>MXSPD</th><th>GUST</th><th>MAX</th><th>MIN</th><th>PRCP</th><th>SNDP</th><th>FRSHTT</th></tr>\n",
       "<tr><td>010875</td><td>NO</td><td>NORWAY</td><td>99999</td><td>20190101</td><td>41.1</td><td>30.1</td><td>9999.9</td><td>9999.9</td><td>5.9</td><td>46.7</td><td>59.1</td><td>74.0</td><td>44.6*</td><td>37.4*</td><td>99.99</td><td>999.9</td><td>011010</td></tr>\n",
       "<tr><td>010875</td><td>NO</td><td>NORWAY</td><td>99999</td><td>20190102</td><td>40.5</td><td>29.0</td><td>9999.9</td><td>9999.9</td><td>6.2</td><td>20.5</td><td>32.1</td><td>44.1</td><td>41.0*</td><td>37.4*</td><td>99.99</td><td>999.9</td><td>010000</td></tr>\n",
       "<tr><td>010875</td><td>NO</td><td>NORWAY</td><td>99999</td><td>20190103</td><td>43.0</td><td>36.6</td><td>9999.9</td><td>9999.9</td><td>6.1</td><td>13.5</td><td>21.0</td><td>999.9</td><td>44.6*</td><td>41.0*</td><td>0.00I</td><td>999.9</td><td>000000</td></tr>\n",
       "<tr><td>010875</td><td>NO</td><td>NORWAY</td><td>99999</td><td>20190104</td><td>46.7</td><td>44.4</td><td>9999.9</td><td>9999.9</td><td>5.8</td><td>27.4</td><td>33.0</td><td>40.0</td><td>48.2*</td><td>42.8*</td><td>99.99</td><td>999.9</td><td>010000</td></tr>\n",
       "<tr><td>010875</td><td>NO</td><td>NORWAY</td><td>99999</td><td>20190105</td><td>46.5</td><td>44.1</td><td>9999.9</td><td>9999.9</td><td>6.1</td><td>18.3</td><td>25.1</td><td>999.9</td><td>48.2*</td><td>44.6*</td><td>99.99</td><td>999.9</td><td>010000</td></tr>\n",
       "<tr><td>010875</td><td>NO</td><td>NORWAY</td><td>99999</td><td>20190106</td><td>45.5</td><td>39.4</td><td>9999.9</td><td>9999.9</td><td>5.7</td><td>16.4</td><td>24.1</td><td>999.9</td><td>46.4*</td><td>42.8*</td><td>99.99</td><td>999.9</td><td>010000</td></tr>\n",
       "<tr><td>010875</td><td>NO</td><td>NORWAY</td><td>99999</td><td>20190107</td><td>45.1</td><td>40.5</td><td>9999.9</td><td>9999.9</td><td>5.4</td><td>28.5</td><td>47.0</td><td>56.9</td><td>48.2*</td><td>42.8*</td><td>99.99</td><td>999.9</td><td>010000</td></tr>\n",
       "<tr><td>010875</td><td>NO</td><td>NORWAY</td><td>99999</td><td>20190108</td><td>42.3</td><td>33.6</td><td>9999.9</td><td>9999.9</td><td>6.1</td><td>35.7</td><td>44.1</td><td>55.9</td><td>46.4*</td><td>37.4*</td><td>99.99</td><td>999.9</td><td>010000</td></tr>\n",
       "<tr><td>010875</td><td>NO</td><td>NORWAY</td><td>99999</td><td>20190109</td><td>40.7</td><td>31.0</td><td>9999.9</td><td>9999.9</td><td>6.2</td><td>16.8</td><td>25.1</td><td>35.0</td><td>42.8*</td><td>39.2*</td><td>99.99</td><td>999.9</td><td>010000</td></tr>\n",
       "<tr><td>010875</td><td>NO</td><td>NORWAY</td><td>99999</td><td>20190110</td><td>47.2</td><td>45.3</td><td>9999.9</td><td>9999.9</td><td>3.5</td><td>25.7</td><td>29.9</td><td>999.9</td><td>48.2*</td><td>41.0*</td><td>99.99</td><td>999.9</td><td>110000</td></tr>\n",
       "<tr><td>010875</td><td>NO</td><td>NORWAY</td><td>99999</td><td>20190111</td><td>44.5</td><td>39.6</td><td>9999.9</td><td>9999.9</td><td>5.8</td><td>19.5</td><td>29.9</td><td>999.9</td><td>46.4*</td><td>42.8*</td><td>99.99</td><td>999.9</td><td>010000</td></tr>\n",
       "<tr><td>010875</td><td>NO</td><td>NORWAY</td><td>99999</td><td>20190112</td><td>45.2</td><td>41.6</td><td>9999.9</td><td>9999.9</td><td>5.9</td><td>27.3</td><td>35.0</td><td>44.1</td><td>46.4*</td><td>42.8*</td><td>99.99</td><td>999.9</td><td>010000</td></tr>\n",
       "<tr><td>010875</td><td>NO</td><td>NORWAY</td><td>99999</td><td>20190113</td><td>41.5</td><td>34.6</td><td>9999.9</td><td>9999.9</td><td>5.7</td><td>35.3</td><td>48.0</td><td>60.0</td><td>46.4*</td><td>32.0*</td><td>99.99</td><td>999.9</td><td>111000</td></tr>\n",
       "<tr><td>010875</td><td>NO</td><td>NORWAY</td><td>99999</td><td>20190114</td><td>34.2</td><td>28.0</td><td>9999.9</td><td>9999.9</td><td>5.5</td><td>25.8</td><td>46.0</td><td>60.0</td><td>37.4*</td><td>30.2*</td><td>99.99</td><td>999.9</td><td>011000</td></tr>\n",
       "<tr><td>010875</td><td>NO</td><td>NORWAY</td><td>99999</td><td>20190115</td><td>43.3</td><td>36.8</td><td>9999.9</td><td>9999.9</td><td>5.8</td><td>25.8</td><td>40.0</td><td>46.0</td><td>46.4*</td><td>35.6*</td><td>99.99</td><td>999.9</td><td>010000</td></tr>\n",
       "<tr><td>010875</td><td>NO</td><td>NORWAY</td><td>99999</td><td>20190116</td><td>41.4</td><td>36.3</td><td>9999.9</td><td>9999.9</td><td>6.1</td><td>27.3</td><td>45.1</td><td>48.0</td><td>46.4*</td><td>33.8*</td><td>99.99</td><td>999.9</td><td>010000</td></tr>\n",
       "<tr><td>010875</td><td>NO</td><td>NORWAY</td><td>99999</td><td>20190117</td><td>36.5</td><td>28.9</td><td>9999.9</td><td>9999.9</td><td>5.8</td><td>23.5</td><td>42.0</td><td>53.0</td><td>39.2*</td><td>33.8*</td><td>99.99</td><td>999.9</td><td>011000</td></tr>\n",
       "<tr><td>010875</td><td>NO</td><td>NORWAY</td><td>99999</td><td>20190118</td><td>39.4</td><td>26.7</td><td>9999.9</td><td>9999.9</td><td>6.1</td><td>12.1</td><td>18.1</td><td>21.0</td><td>41.0*</td><td>32.0*</td><td>99.99</td><td>999.9</td><td>010000</td></tr>\n",
       "<tr><td>010875</td><td>NO</td><td>NORWAY</td><td>99999</td><td>20190119</td><td>40.9</td><td>33.8</td><td>9999.9</td><td>9999.9</td><td>6.2</td><td>9.9</td><td>15.0</td><td>999.9</td><td>42.8*</td><td>39.2*</td><td>0.00I</td><td>999.9</td><td>000000</td></tr>\n",
       "<tr><td>010875</td><td>NO</td><td>NORWAY</td><td>99999</td><td>20190120</td><td>42.3</td><td>36.5</td><td>9999.9</td><td>9999.9</td><td>6.2</td><td>20.8</td><td>34.0</td><td>36.9</td><td>42.8*</td><td>39.2*</td><td>99.99</td><td>999.9</td><td>010000</td></tr>\n",
       "</table>\n",
       "only showing top 20 rows\n"
      ],
      "text/plain": [
       "+------+------------+------------+-----+--------+----+----+------+------+-----+----+-----+-----+-----+-----+-----+-----+------+\n",
       "|STN_NO|COUNTRY_ABBR|COUNTRY_FULL| WBAN|YEARMODA|TEMP|DEWP|   SLP|   STP|VISIB|WDSP|MXSPD| GUST|  MAX|  MIN| PRCP| SNDP|FRSHTT|\n",
       "+------+------------+------------+-----+--------+----+----+------+------+-----+----+-----+-----+-----+-----+-----+-----+------+\n",
       "|010875|          NO|      NORWAY|99999|20190101|41.1|30.1|9999.9|9999.9|  5.9|46.7| 59.1| 74.0|44.6*|37.4*|99.99|999.9|011010|\n",
       "|010875|          NO|      NORWAY|99999|20190102|40.5|29.0|9999.9|9999.9|  6.2|20.5| 32.1| 44.1|41.0*|37.4*|99.99|999.9|010000|\n",
       "|010875|          NO|      NORWAY|99999|20190103|43.0|36.6|9999.9|9999.9|  6.1|13.5| 21.0|999.9|44.6*|41.0*|0.00I|999.9|000000|\n",
       "|010875|          NO|      NORWAY|99999|20190104|46.7|44.4|9999.9|9999.9|  5.8|27.4| 33.0| 40.0|48.2*|42.8*|99.99|999.9|010000|\n",
       "|010875|          NO|      NORWAY|99999|20190105|46.5|44.1|9999.9|9999.9|  6.1|18.3| 25.1|999.9|48.2*|44.6*|99.99|999.9|010000|\n",
       "|010875|          NO|      NORWAY|99999|20190106|45.5|39.4|9999.9|9999.9|  5.7|16.4| 24.1|999.9|46.4*|42.8*|99.99|999.9|010000|\n",
       "|010875|          NO|      NORWAY|99999|20190107|45.1|40.5|9999.9|9999.9|  5.4|28.5| 47.0| 56.9|48.2*|42.8*|99.99|999.9|010000|\n",
       "|010875|          NO|      NORWAY|99999|20190108|42.3|33.6|9999.9|9999.9|  6.1|35.7| 44.1| 55.9|46.4*|37.4*|99.99|999.9|010000|\n",
       "|010875|          NO|      NORWAY|99999|20190109|40.7|31.0|9999.9|9999.9|  6.2|16.8| 25.1| 35.0|42.8*|39.2*|99.99|999.9|010000|\n",
       "|010875|          NO|      NORWAY|99999|20190110|47.2|45.3|9999.9|9999.9|  3.5|25.7| 29.9|999.9|48.2*|41.0*|99.99|999.9|110000|\n",
       "|010875|          NO|      NORWAY|99999|20190111|44.5|39.6|9999.9|9999.9|  5.8|19.5| 29.9|999.9|46.4*|42.8*|99.99|999.9|010000|\n",
       "|010875|          NO|      NORWAY|99999|20190112|45.2|41.6|9999.9|9999.9|  5.9|27.3| 35.0| 44.1|46.4*|42.8*|99.99|999.9|010000|\n",
       "|010875|          NO|      NORWAY|99999|20190113|41.5|34.6|9999.9|9999.9|  5.7|35.3| 48.0| 60.0|46.4*|32.0*|99.99|999.9|111000|\n",
       "|010875|          NO|      NORWAY|99999|20190114|34.2|28.0|9999.9|9999.9|  5.5|25.8| 46.0| 60.0|37.4*|30.2*|99.99|999.9|011000|\n",
       "|010875|          NO|      NORWAY|99999|20190115|43.3|36.8|9999.9|9999.9|  5.8|25.8| 40.0| 46.0|46.4*|35.6*|99.99|999.9|010000|\n",
       "|010875|          NO|      NORWAY|99999|20190116|41.4|36.3|9999.9|9999.9|  6.1|27.3| 45.1| 48.0|46.4*|33.8*|99.99|999.9|010000|\n",
       "|010875|          NO|      NORWAY|99999|20190117|36.5|28.9|9999.9|9999.9|  5.8|23.5| 42.0| 53.0|39.2*|33.8*|99.99|999.9|011000|\n",
       "|010875|          NO|      NORWAY|99999|20190118|39.4|26.7|9999.9|9999.9|  6.1|12.1| 18.1| 21.0|41.0*|32.0*|99.99|999.9|010000|\n",
       "|010875|          NO|      NORWAY|99999|20190119|40.9|33.8|9999.9|9999.9|  6.2| 9.9| 15.0|999.9|42.8*|39.2*|0.00I|999.9|000000|\n",
       "|010875|          NO|      NORWAY|99999|20190120|42.3|36.5|9999.9|9999.9|  6.2|20.8| 34.0| 36.9|42.8*|39.2*|99.99|999.9|010000|\n",
       "+------+------------+------------+-----+--------+----+----+------+------+-----+----+-----+-----+-----+-----+-----+-----+------+\n",
       "only showing top 20 rows"
      ]
     },
     "execution_count": 6,
     "metadata": {},
     "output_type": "execute_result"
    }
   ],
   "source": [
    "dataDF = dataDF.withColumnRenamed(\"STN---\",\"STN_NO\")\n",
    "sparkDF = countryMappingDF.join(dataDF, on=['STN_NO'], how='inner')\n",
    "sparkDF"
   ]
  },
  {
   "cell_type": "markdown",
   "id": "annoying-holmes",
   "metadata": {},
   "source": [
    "### Which country had the hottest average mean temperature over the year"
   ]
  },
  {
   "cell_type": "code",
   "execution_count": 7,
   "id": "foster-performance",
   "metadata": {},
   "outputs": [
    {
     "name": "stdout",
     "output_type": "stream",
     "text": [
      "+--------------------+-----------------+\n",
      "|        COUNTRY_FULL|        avg(TEMP)|\n",
      "+--------------------+-----------------+\n",
      "|            DJIBOUTI|90.06114457831325|\n",
      "|                CHAD|87.36099706744866|\n",
      "|               NIGER|85.06022291247945|\n",
      "|               SUDAN| 84.4549418604651|\n",
      "|         EL SALVADOR|84.44045944678854|\n",
      "|              TUVALU|84.32217090069284|\n",
      "| JUAN DE NOVA ISLAND|84.15945945945947|\n",
      "|             TOKELAU|83.96142857142854|\n",
      "|BRITISH INDIAN OC...|83.91150684931505|\n",
      "|      CAYMAN ISLANDS| 83.7715458276334|\n",
      "|        BURKINA FASO|83.74875078076202|\n",
      "|            MALDIVES|83.67879452054797|\n",
      "|           SINGAPORE|83.63278538812786|\n",
      "|            CAMBODIA|83.49766803840879|\n",
      "|                MALI|83.38503218884121|\n",
      "|ST. VINCENT AND T...|83.35714285714286|\n",
      "|    MARSHALL ISLANDS|83.24540636042401|\n",
      "|          MICRONESIA|83.22937823834197|\n",
      "|             SENEGAL|83.11452655889146|\n",
      "|               HAITI|83.10185185185185|\n",
      "+--------------------+-----------------+\n",
      "only showing top 20 rows\n",
      "\n"
     ]
    }
   ],
   "source": [
    "sparkDF[sparkDF['TEMP'] != 9999.9].groupBy(\"COUNTRY_FULL\").agg(F.mean('TEMP')).sort(F.col(\"avg(TEMP)\").desc()).show()"
   ]
  },
  {
   "cell_type": "markdown",
   "id": "bizarre-triumph",
   "metadata": {},
   "source": [
    "### Which country had the most consecutive days of tornadoes/funnel cloud formations?"
   ]
  },
  {
   "cell_type": "code",
   "execution_count": 8,
   "id": "voluntary-drive",
   "metadata": {},
   "outputs": [
    {
     "data": {
      "text/html": [
       "<table border='1'>\n",
       "<tr><th>STN_NO</th><th>COUNTRY_ABBR</th><th>COUNTRY_FULL</th><th>WBAN</th><th>YEARMODA</th><th>TEMP</th><th>DEWP</th><th>SLP</th><th>STP</th><th>VISIB</th><th>WDSP</th><th>MXSPD</th><th>GUST</th><th>MAX</th><th>MIN</th><th>PRCP</th><th>SNDP</th><th>FRSHTT</th><th>TFC</th><th>grp</th><th>streak_1</th></tr>\n",
       "<tr><td>353946</td><td>AM</td><td>ARMENIA</td><td>99999</td><td>20190101</td><td>31.4</td><td>27.9</td><td>9999.9</td><td>9999.9</td><td>2.2</td><td>0.9</td><td>4.1</td><td>999.9</td><td>41.0*</td><td>23.0*</td><td>0.00I</td><td>999.9</td><td>100000</td><td>0</td><td>0</td><td>0</td></tr>\n",
       "<tr><td>377850</td><td>AM</td><td>ARMENIA</td><td>99999</td><td>20190101</td><td>29.7</td><td>29.7</td><td>9999.9</td><td>897.3</td><td>15.5</td><td>1.9</td><td>1.9</td><td>999.9</td><td>37.4</td><td>23.0</td><td>0.13G</td><td>999.9</td><td>000000</td><td>0</td><td>0</td><td>0</td></tr>\n",
       "<tr><td>376990</td><td>AM</td><td>ARMENIA</td><td>99999</td><td>20190101</td><td>19.0</td><td>11.7</td><td>9999.9</td><td>811.5</td><td>999.9</td><td>999.9</td><td>999.9</td><td>999.9</td><td>25.7</td><td>8.6*</td><td>0.28G</td><td>999.9</td><td>001000</td><td>0</td><td>0</td><td>0</td></tr>\n",
       "<tr><td>378010</td><td>AM</td><td>ARMENIA</td><td>99999</td><td>20190101</td><td>22.7</td><td>12.7</td><td>9999.9</td><td>802.4</td><td>999.9</td><td>2.4</td><td>3.9</td><td>999.9</td><td>31.6</td><td>14.0*</td><td>0.00G</td><td>999.9</td><td>000000</td><td>0</td><td>0</td><td>0</td></tr>\n",
       "<tr><td>377170</td><td>AM</td><td>ARMENIA</td><td>99999</td><td>20190101</td><td>23.0</td><td>18.1</td><td>9999.9</td><td>808.7</td><td>8.9</td><td>3.4</td><td>5.8</td><td>999.9</td><td>30.6</td><td>18.0*</td><td>0.09G</td><td>999.9</td><td>001000</td><td>0</td><td>0</td><td>0</td></tr>\n",
       "<tr><td>376820</td><td>AM</td><td>ARMENIA</td><td>99999</td><td>20190101</td><td>17.0</td><td>15.4</td><td>9999.9</td><td>813.7</td><td>5.7</td><td>3.1</td><td>5.8</td><td>999.9</td><td>24.6</td><td>9.5*</td><td>0.00G</td><td>999.9</td><td>000000</td><td>0</td><td>0</td><td>0</td></tr>\n",
       "<tr><td>377040</td><td>AM</td><td>ARMENIA</td><td>99999</td><td>20190101</td><td>28.2</td><td>22.7</td><td>9999.9</td><td>865.6</td><td>8.7</td><td>4.4</td><td>7.8</td><td>999.9</td><td>36.5</td><td>21.9*</td><td>0.00G</td><td>999.9</td><td>000000</td><td>0</td><td>0</td><td>0</td></tr>\n",
       "<tr><td>377870</td><td>AM</td><td>ARMENIA</td><td>99999</td><td>20190101</td><td>31.6</td><td>25.0</td><td>1026.5</td><td>922.5</td><td>13.2</td><td>999.9</td><td>999.9</td><td>999.9</td><td>39.2</td><td>27.5</td><td>0.09G</td><td>999.9</td><td>000000</td><td>0</td><td>0</td><td>0</td></tr>\n",
       "<tr><td>377880</td><td>AM</td><td>ARMENIA</td><td>99999</td><td>20190101</td><td>31.6</td><td>28.0</td><td>1027.7</td><td>925.0</td><td>1.9</td><td>3.2</td><td>5.8</td><td>999.9</td><td>39.9</td><td>27.5</td><td>0.00I</td><td>999.9</td><td>100000</td><td>0</td><td>0</td><td>0</td></tr>\n",
       "<tr><td>379590</td><td>AM</td><td>ARMENIA</td><td>99999</td><td>20190101</td><td>36.0</td><td>32.9</td><td>1026.8</td><td>941.6</td><td>999.9</td><td>999.9</td><td>999.9</td><td>999.9</td><td>50.7</td><td>28.4</td><td>0.00G</td><td>999.9</td><td>000000</td><td>0</td><td>0</td><td>0</td></tr>\n",
       "<tr><td>377110</td><td>AM</td><td>ARMENIA</td><td>99999</td><td>20190101</td><td>34.6</td><td>28.5</td><td>1025.2</td><td>937.0</td><td>12.4</td><td>4.3</td><td>5.8</td><td>999.9</td><td>44.6</td><td>31.1</td><td>0.00G</td><td>999.9</td><td>000000</td><td>0</td><td>0</td><td>0</td></tr>\n",
       "<tr><td>378970</td><td>AM</td><td>ARMENIA</td><td>99999</td><td>20190101</td><td>29.9</td><td>22.8</td><td>9999.9</td><td>842.3</td><td>9.9</td><td>999.9</td><td>999.9</td><td>999.9</td><td>34.9</td><td>24.1*</td><td>3.93G</td><td>999.9</td><td>001000</td><td>0</td><td>0</td><td>0</td></tr>\n",
       "<tr><td>376090</td><td>AM</td><td>ARMENIA</td><td>99999</td><td>20190101</td><td>15.8</td><td>13.2</td><td>9999.9</td><td>799.6</td><td>12.4</td><td>999.9</td><td>999.9</td><td>999.9</td><td>22.3</td><td>8.1*</td><td>0.00G</td><td>999.9</td><td>000000</td><td>0</td><td>0</td><td>0</td></tr>\n",
       "<tr><td>378710</td><td>AM</td><td>ARMENIA</td><td>99999</td><td>20190101</td><td>33.7</td><td>29.4</td><td>1027.9</td><td>927.8</td><td>999.9</td><td>999.9</td><td>999.9</td><td>999.9</td><td>42.6</td><td>30.2</td><td>0.02G</td><td>999.9</td><td>000000</td><td>0</td><td>0</td><td>0</td></tr>\n",
       "<tr><td>377920</td><td>AM</td><td>ARMENIA</td><td>99999</td><td>20190101</td><td>23.8</td><td>20.2</td><td>9999.9</td><td>825.6</td><td>14.9</td><td>999.9</td><td>999.9</td><td>999.9</td><td>30.2</td><td>20.8*</td><td>0.11G</td><td>999.9</td><td>001000</td><td>0</td><td>0</td><td>0</td></tr>\n",
       "<tr><td>353946</td><td>AM</td><td>ARMENIA</td><td>99999</td><td>20190102</td><td>30.7</td><td>25.1</td><td>9999.9</td><td>9999.9</td><td>3.1</td><td>0.7</td><td>2.9</td><td>999.9</td><td>41.0*</td><td>24.8*</td><td>0.00I</td><td>999.9</td><td>000000</td><td>0</td><td>0</td><td>0</td></tr>\n",
       "<tr><td>377850</td><td>AM</td><td>ARMENIA</td><td>99999</td><td>20190102</td><td>28.9</td><td>28.1</td><td>9999.9</td><td>895.5</td><td>19.9</td><td>2.3</td><td>3.9</td><td>999.9</td><td>39.2</td><td>23.0</td><td>0.00G</td><td>999.9</td><td>000000</td><td>0</td><td>0</td><td>0</td></tr>\n",
       "<tr><td>376990</td><td>AM</td><td>ARMENIA</td><td>99999</td><td>20190102</td><td>20.3</td><td>10.8</td><td>9999.9</td><td>810.4</td><td>999.9</td><td>3.9</td><td>3.9</td><td>999.9</td><td>42.6</td><td>10.2*</td><td>0.00G</td><td>999.9</td><td>000000</td><td>0</td><td>0</td><td>0</td></tr>\n",
       "<tr><td>378010</td><td>AM</td><td>ARMENIA</td><td>99999</td><td>20190102</td><td>19.3</td><td>13.9</td><td>9999.9</td><td>802.9</td><td>999.9</td><td>2.3</td><td>3.9</td><td>999.9</td><td>34.7</td><td>1.8</td><td>0.00G</td><td>999.9</td><td>000000</td><td>0</td><td>0</td><td>0</td></tr>\n",
       "<tr><td>377170</td><td>AM</td><td>ARMENIA</td><td>99999</td><td>20190102</td><td>23.5</td><td>16.3</td><td>9999.9</td><td>807.3</td><td>10.1</td><td>3.1</td><td>3.9</td><td>999.9</td><td>30.2</td><td>16.5</td><td>0.04G</td><td>5.1</td><td>000000</td><td>0</td><td>0</td><td>0</td></tr>\n",
       "</table>\n",
       "only showing top 20 rows\n"
      ],
      "text/plain": [
       "+------+------------+------------+-----+--------+----+----+------+------+-----+-----+-----+-----+-----+-----+-----+-----+------+---+---+--------+\n",
       "|STN_NO|COUNTRY_ABBR|COUNTRY_FULL| WBAN|YEARMODA|TEMP|DEWP|   SLP|   STP|VISIB| WDSP|MXSPD| GUST|  MAX|  MIN| PRCP| SNDP|FRSHTT|TFC|grp|streak_1|\n",
       "+------+------------+------------+-----+--------+----+----+------+------+-----+-----+-----+-----+-----+-----+-----+-----+------+---+---+--------+\n",
       "|353946|          AM|     ARMENIA|99999|20190101|31.4|27.9|9999.9|9999.9|  2.2|  0.9|  4.1|999.9|41.0*|23.0*|0.00I|999.9|100000|  0|  0|       0|\n",
       "|377850|          AM|     ARMENIA|99999|20190101|29.7|29.7|9999.9| 897.3| 15.5|  1.9|  1.9|999.9| 37.4| 23.0|0.13G|999.9|000000|  0|  0|       0|\n",
       "|376990|          AM|     ARMENIA|99999|20190101|19.0|11.7|9999.9| 811.5|999.9|999.9|999.9|999.9| 25.7| 8.6*|0.28G|999.9|001000|  0|  0|       0|\n",
       "|378010|          AM|     ARMENIA|99999|20190101|22.7|12.7|9999.9| 802.4|999.9|  2.4|  3.9|999.9| 31.6|14.0*|0.00G|999.9|000000|  0|  0|       0|\n",
       "|377170|          AM|     ARMENIA|99999|20190101|23.0|18.1|9999.9| 808.7|  8.9|  3.4|  5.8|999.9| 30.6|18.0*|0.09G|999.9|001000|  0|  0|       0|\n",
       "|376820|          AM|     ARMENIA|99999|20190101|17.0|15.4|9999.9| 813.7|  5.7|  3.1|  5.8|999.9| 24.6| 9.5*|0.00G|999.9|000000|  0|  0|       0|\n",
       "|377040|          AM|     ARMENIA|99999|20190101|28.2|22.7|9999.9| 865.6|  8.7|  4.4|  7.8|999.9| 36.5|21.9*|0.00G|999.9|000000|  0|  0|       0|\n",
       "|377870|          AM|     ARMENIA|99999|20190101|31.6|25.0|1026.5| 922.5| 13.2|999.9|999.9|999.9| 39.2| 27.5|0.09G|999.9|000000|  0|  0|       0|\n",
       "|377880|          AM|     ARMENIA|99999|20190101|31.6|28.0|1027.7| 925.0|  1.9|  3.2|  5.8|999.9| 39.9| 27.5|0.00I|999.9|100000|  0|  0|       0|\n",
       "|379590|          AM|     ARMENIA|99999|20190101|36.0|32.9|1026.8| 941.6|999.9|999.9|999.9|999.9| 50.7| 28.4|0.00G|999.9|000000|  0|  0|       0|\n",
       "|377110|          AM|     ARMENIA|99999|20190101|34.6|28.5|1025.2| 937.0| 12.4|  4.3|  5.8|999.9| 44.6| 31.1|0.00G|999.9|000000|  0|  0|       0|\n",
       "|378970|          AM|     ARMENIA|99999|20190101|29.9|22.8|9999.9| 842.3|  9.9|999.9|999.9|999.9| 34.9|24.1*|3.93G|999.9|001000|  0|  0|       0|\n",
       "|376090|          AM|     ARMENIA|99999|20190101|15.8|13.2|9999.9| 799.6| 12.4|999.9|999.9|999.9| 22.3| 8.1*|0.00G|999.9|000000|  0|  0|       0|\n",
       "|378710|          AM|     ARMENIA|99999|20190101|33.7|29.4|1027.9| 927.8|999.9|999.9|999.9|999.9| 42.6| 30.2|0.02G|999.9|000000|  0|  0|       0|\n",
       "|377920|          AM|     ARMENIA|99999|20190101|23.8|20.2|9999.9| 825.6| 14.9|999.9|999.9|999.9| 30.2|20.8*|0.11G|999.9|001000|  0|  0|       0|\n",
       "|353946|          AM|     ARMENIA|99999|20190102|30.7|25.1|9999.9|9999.9|  3.1|  0.7|  2.9|999.9|41.0*|24.8*|0.00I|999.9|000000|  0|  0|       0|\n",
       "|377850|          AM|     ARMENIA|99999|20190102|28.9|28.1|9999.9| 895.5| 19.9|  2.3|  3.9|999.9| 39.2| 23.0|0.00G|999.9|000000|  0|  0|       0|\n",
       "|376990|          AM|     ARMENIA|99999|20190102|20.3|10.8|9999.9| 810.4|999.9|  3.9|  3.9|999.9| 42.6|10.2*|0.00G|999.9|000000|  0|  0|       0|\n",
       "|378010|          AM|     ARMENIA|99999|20190102|19.3|13.9|9999.9| 802.9|999.9|  2.3|  3.9|999.9| 34.7|  1.8|0.00G|999.9|000000|  0|  0|       0|\n",
       "|377170|          AM|     ARMENIA|99999|20190102|23.5|16.3|9999.9| 807.3| 10.1|  3.1|  3.9|999.9| 30.2| 16.5|0.04G|  5.1|000000|  0|  0|       0|\n",
       "+------+------------+------------+-----+--------+----+----+------+------+-----+-----+-----+-----+-----+-----+-----+-----+------+---+---+--------+\n",
       "only showing top 20 rows"
      ]
     },
     "execution_count": 8,
     "metadata": {},
     "output_type": "execute_result"
    }
   ],
   "source": [
    "tmpDF = sparkDF.withColumn(\"TFC\", F.substring(F.col(\"FRSHTT\"), -1, 1))\n",
    "w1 = Window.partitionBy(tmpDF.COUNTRY_FULL).orderBy(tmpDF.YEARMODA)\n",
    "w2 = Window.partitionBy(tmpDF.COUNTRY_FULL,tmpDF.TFC).orderBy(tmpDF.YEARMODA)\n",
    "\n",
    "res = tmpDF.withColumn('grp',F.row_number().over(w1)-F.row_number().over(w2))\n",
    "\n",
    "#Window definition for streak\n",
    "w3 = Window.partitionBy(res.COUNTRY_FULL,res.TFC,res.grp).orderBy(res.YEARMODA)\n",
    "streak_res = res.withColumn('streak_1',F.when(res.TFC == 0,0).otherwise(F.row_number().over(w3)))\n",
    "streak_res"
   ]
  },
  {
   "cell_type": "code",
   "execution_count": 9,
   "id": "polyphonic-continent",
   "metadata": {},
   "outputs": [
    {
     "name": "stdout",
     "output_type": "stream",
     "text": [
      "+--------------------+-------------+\n",
      "|        COUNTRY_FULL|max(streak_1)|\n",
      "+--------------------+-------------+\n",
      "|              CANADA|            2|\n",
      "|         BAHAMAS THE|            2|\n",
      "|      CAYMAN ISLANDS|            2|\n",
      "|              ISRAEL|            2|\n",
      "|               ITALY|            2|\n",
      "|       UNITED STATES|            2|\n",
      "|            MALDIVES|            1|\n",
      "|              JERSEY|            1|\n",
      "|             NIGERIA|            1|\n",
      "|            TANZANIA|            1|\n",
      "|            COLOMBIA|            1|\n",
      "|               GABON|            1|\n",
      "|COCOS (KEELING) I...|            1|\n",
      "| ST. KITTS AND NEVIS|            1|\n",
      "|               ARUBA|            1|\n",
      "|             SENEGAL|            1|\n",
      "|              POLAND|            1|\n",
      "|             ALGERIA|            1|\n",
      "|          COSTA RICA|            1|\n",
      "|               MALTA|            1|\n",
      "+--------------------+-------------+\n",
      "only showing top 20 rows\n",
      "\n"
     ]
    }
   ],
   "source": [
    "streak_res.groupby('COUNTRY_FULL').agg({'streak_1': 'max'}).sort(F.col(\"max(streak_1)\").desc()).show()"
   ]
  },
  {
   "cell_type": "markdown",
   "id": "complete-catering",
   "metadata": {},
   "source": [
    "### Which country had the second highest average mean wind speed over the year?"
   ]
  },
  {
   "cell_type": "code",
   "execution_count": 10,
   "id": "starting-portfolio",
   "metadata": {},
   "outputs": [
    {
     "name": "stdout",
     "output_type": "stream",
     "text": [
      "+--------------------+------------------+\n",
      "|        COUNTRY_FULL|         avg(WDSP)|\n",
      "+--------------------+------------------+\n",
      "|FALKLAND ISLANDS ...| 17.87783300198807|\n",
      "|               ARUBA|15.975683060109283|\n",
      "|       FAROE ISLANDS| 15.28067010309278|\n",
      "|FRENCH SOUTHERN A...|14.203721841332031|\n",
      "|            BARBADOS|14.097540983606562|\n",
      "|ST. PIERRE AND MI...| 13.90767123287671|\n",
      "|          CAPE VERDE| 13.61522184300341|\n",
      "|     TROMELIN ISLAND|13.005277777777751|\n",
      "|          ST. HELENA|12.730518394648827|\n",
      "|          MAURITANIA|12.723464912280699|\n",
      "|          ANTARCTICA| 12.27517270608179|\n",
      "|             SOMALIA|12.274880611270296|\n",
      "|COCOS (KEELING) I...|12.054545454545453|\n",
      "|            GUERNSEY|12.018019257221466|\n",
      "|        MAN  ISLE OF|11.893424657534247|\n",
      "|          MONTSERRAT|11.808813559322036|\n",
      "|             ICELAND|11.734775540827808|\n",
      "|      WESTERN SAHARA|11.647547169811322|\n",
      "|           ST. LUCIA|11.575239398084811|\n",
      "|              JERSEY|11.477260273972604|\n",
      "+--------------------+------------------+\n",
      "only showing top 20 rows\n",
      "\n"
     ]
    }
   ],
   "source": [
    "sparkDF[sparkDF['WDSP'] != 999.9].groupBy(\"COUNTRY_FULL\").agg(F.mean('WDSP')).sort(F.col(\"avg(WDSP)\").desc()).show()"
   ]
  },
  {
   "cell_type": "code",
   "execution_count": null,
   "id": "danish-parts",
   "metadata": {},
   "outputs": [],
   "source": []
  }
 ],
 "metadata": {
  "kernelspec": {
   "display_name": "Python 3",
   "language": "python",
   "name": "python3"
  },
  "language_info": {
   "codemirror_mode": {
    "name": "ipython",
    "version": 3
   },
   "file_extension": ".py",
   "mimetype": "text/x-python",
   "name": "python",
   "nbconvert_exporter": "python",
   "pygments_lexer": "ipython3",
   "version": "3.7.9"
  }
 },
 "nbformat": 4,
 "nbformat_minor": 5
}
